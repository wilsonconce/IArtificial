{
 "cells": [
  {
   "cell_type": "code",
   "execution_count": 1,
   "metadata": {},
   "outputs": [],
   "source": [
    "from bs4 import BeautifulSoup\n",
    "import requests"
   ]
  },
  {
   "cell_type": "code",
   "execution_count": 3,
   "metadata": {},
   "outputs": [],
   "source": [
    "def get_main_news():\n",
    "    url = 'https://www.cmmedia.es/noticias/castilla-la-mancha/'\n",
    "    respuesta = requests.get(\n",
    "        url,\n",
    "        headers = {\n",
    "            'User-Agent': 'Mozilla/5.0 (Windows NT 10.0; Win64; x64) AppleWebKit/537.36 (KHTML, like Gecko) Chrome/80.0.3987.163 Safari/537.36'\n",
    "        }\n",
    "    )\n",
    "    contenido_web = BeautifulSoup(respuesta.text, 'lxml')\n",
    "    noticias = contenido_web.find('ul', attrs={'class':'news-list'})\n",
    "    articulos = noticias.findChildren('div', attrs={'class':'media-body'})\n",
    "    \n",
    "    noticias = [];\n",
    "\n",
    "    for articulo in articulos:\n",
    "        print('=================================')\n",
    "        print(articulo.find('h3').a.get('href'))\n",
    "        print(articulo.find('h3').get_text())\n",
    "        print('=================================')\n",
    "        noticias.append({\n",
    "            'url': articulo.find('h3').a.get('href'),\n",
    "            'titulo': articulo.find('h3').get_text()\n",
    "        })\n",
    "\n",
    "    return noticias"
   ]
  },
  {
   "cell_type": "code",
   "execution_count": 5,
   "metadata": {},
   "outputs": [
    {
     "name": "stdout",
     "output_type": "stream",
     "text": [
      "=================================\n",
      "https://www.cmmedia.es/noticias/castilla-la-mancha/horche-guadalajara-con-medidas-de-nivel-3\n",
      "\n",
      "Horche (Guadalajara) con medidas de nivel 3 \n",
      "=================================\n",
      "=================================\n",
      "https://www.cmmedia.es/noticias/castilla-la-mancha/15-fallecidos-y-309-positivos-por-covid-19-en-clm-en-24-horas\n",
      "\n",
      "15 fallecidos y 309 positivos por Covid-19 en CLM en 24 horas \n",
      "=================================\n",
      "=================================\n",
      "https://www.cmmedia.es/noticias/castilla-la-mancha/quintanar-del-rey-cuenca-prorrogadas-medidas-de-nivel-3\n",
      "\n",
      "Quintanar del Rey (Cuenca), prorrogadas medidas de nivel 3 \n",
      "=================================\n",
      "=================================\n",
      "https://www.cmmedia.es/noticias/castilla-la-mancha/ayudas-a-empresas-que-contraten-a-jovenes-de-clm-y-otras-noticias-del-dia\n",
      "\n",
      "Ayudas a empresas que contraten a jóvenes de CLM; y otras noticias del día \n",
      "=================================\n",
      "=================================\n",
      "https://www.cmmedia.es/noticias/castilla-la-mancha/detenido-en-guadamur-el-presunto-ladron-de-crucifijos-en-cementerios-de-toledo\n",
      "\n",
      "Detenido en Guadamur el presunto ladrón de crucifijos en cementerios de Toledo \n",
      "=================================\n",
      "=================================\n",
      "https://www.cmmedia.es/noticias/castilla-la-mancha/catorce-detenidos-por-elaborar-whisky-falso-lo-etiquetaban-en-ciudad-real\n",
      "\n",
      "Catorce detenidos por elaborar \"whisky falso\": lo etiquetaban en Ciudad Real \n",
      "=================================\n"
     ]
    },
    {
     "ename": "NameError",
     "evalue": "name 'get_all_info_by_new' is not defined",
     "output_type": "error",
     "traceback": [
      "\u001b[0;31m---------------------------------------------------------------------------\u001b[0m",
      "\u001b[0;31mNameError\u001b[0m                                 Traceback (most recent call last)",
      "\u001b[0;32m<ipython-input-5-1d923ba1e3b9>\u001b[0m in \u001b[0;36m<module>\u001b[0;34m\u001b[0m\n\u001b[1;32m      3\u001b[0m \u001b[0;34m\u001b[0m\u001b[0m\n\u001b[1;32m      4\u001b[0m     \u001b[0;32mfor\u001b[0m \u001b[0mnoticia\u001b[0m \u001b[0;32min\u001b[0m \u001b[0mnoticias\u001b[0m\u001b[0;34m:\u001b[0m\u001b[0;34m\u001b[0m\u001b[0;34m\u001b[0m\u001b[0m\n\u001b[0;32m----> 5\u001b[0;31m         \u001b[0mnoticia\u001b[0m \u001b[0;34m=\u001b[0m \u001b[0mget_all_info_by_new\u001b[0m\u001b[0;34m(\u001b[0m\u001b[0mnoticia\u001b[0m\u001b[0;34m)\u001b[0m\u001b[0;34m\u001b[0m\u001b[0;34m\u001b[0m\u001b[0m\n\u001b[0m\u001b[1;32m      6\u001b[0m         \u001b[0mprint\u001b[0m\u001b[0;34m(\u001b[0m\u001b[0;34m'================================='\u001b[0m\u001b[0;34m)\u001b[0m\u001b[0;34m\u001b[0m\u001b[0;34m\u001b[0m\u001b[0m\n\u001b[1;32m      7\u001b[0m         \u001b[0mprint\u001b[0m\u001b[0;34m(\u001b[0m\u001b[0mnoticia\u001b[0m\u001b[0;34m)\u001b[0m\u001b[0;34m\u001b[0m\u001b[0;34m\u001b[0m\u001b[0m\n",
      "\u001b[0;31mNameError\u001b[0m: name 'get_all_info_by_new' is not defined"
     ]
    }
   ],
   "source": [
    "if __name__ == '__main__':\n",
    "    noticias = get_main_news()\n",
    "\n",
    "    for noticia in noticias:\n",
    "        noticia = get_all_info_by_new(noticia)\n",
    "        print('=================================')\n",
    "        print(noticia)\n",
    "        print('=================================')"
   ]
  },
  {
   "cell_type": "code",
   "execution_count": null,
   "metadata": {},
   "outputs": [],
   "source": []
  }
 ],
 "metadata": {
  "kernelspec": {
   "display_name": "Python 3",
   "language": "python",
   "name": "python3"
  },
  "language_info": {
   "codemirror_mode": {
    "name": "ipython",
    "version": 3
   },
   "file_extension": ".py",
   "mimetype": "text/x-python",
   "name": "python",
   "nbconvert_exporter": "python",
   "pygments_lexer": "ipython3",
   "version": "3.8.5"
  }
 },
 "nbformat": 4,
 "nbformat_minor": 4
}
