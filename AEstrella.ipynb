{
 "cells": [
  {
   "cell_type": "code",
   "execution_count": 1,
   "id": "e12862bc",
   "metadata": {},
   "outputs": [],
   "source": [
    "from neo4j import GraphDatabase\n",
    "\n",
    "class CLASE_NEO4J(object): \n",
    "    def __init__(self):\n",
    "        self._driver = GraphDatabase.driver(\"bolt:neo4j://localhost:7687\", auth=(\"neo4j\", \"admin\"), encrypted=False)\n",
    "    def close(self):\n",
    "        self._driver.close()\n",
    "        \n",
    "    def CREAR_LUGAR(self, message,lugar, latitud, longitud):\n",
    "        with self._driver.session() as session:\n",
    "            session.write_transaction(self._VALIDAR_LUGAR, message,lugar, latitud, longitud)\n",
    "            \n",
    "            \n",
    "    def CREAR_RUTA(self,origen,destino,costo,hn):\n",
    "        with self._driver.session() as session:\n",
    "            session.write_transaction(self._VALIDAR_RUTA,origen,destino,costo,hn)\n",
    "            \n",
    "    #METODO PARA CREAR LOS NODOS DE LUGARES\n",
    "    @staticmethod\n",
    "    def _VALIDAR_LUGAR(tx, message,lugar, latitud, longitud):\n",
    "        result2 = tx.run(\"match(l:Lugares {nombre:'\"+lugar+\"'}) return l.nombre\").data()\n",
    "       \n",
    "        if int(len(result2)) == 0:\n",
    "            #SE CREA EL LUGAR\n",
    "            result = tx.run(\"CREATE(\"+lugar+\":Lugares {nombre:'\"+lugar+\"' ,latitud: \"+latitud+\", longitud: \"+longitud+\"}) \"\n",
    "                        \"SET \"+lugar+\".message = $message \"\n",
    "                        \"RETURN \"+lugar+\".message + ', from node ' + id(\"+lugar+\")\", message=message)\n",
    "       \n",
    "    #CREACION LAS RELACIONES CON EL COSTE  Y HN PARA LA RUTA\n",
    "    @staticmethod\n",
    "    def _VALIDAR_RUTA(tx,origen,destino,costo,hn):\n",
    "   \n",
    "        result = tx.run(\"match(l1:Lugares{nombre:'\"+origen+\"'})-[r:RUTA_DE{costo:\"+costo+\",hn:\"+hn+\"}]->(l2:Lugares{nombre:'\"+destino+\"'}) return l2\").data()\n",
    "        if int(len(result)) == 0:\n",
    "\n",
    "            result2 = tx.run(\" match(\"+origen+\":Lugares {nombre:'\"+origen+\"'}) match(\"+destino+\":Lugares {nombre:'\"+destino+\"'}) create(\"+origen+\")-[:RUTA_DE{costo:\"+costo+\",hn:\"+hn+\"}]->(\"+destino+\")\")\n",
    "            \n",
    "grafo=CLASE_NEO4J()"
   ]
  },
  {
   "cell_type": "code",
   "execution_count": 2,
   "id": "ad91cf24",
   "metadata": {},
   "outputs": [],
   "source": [
    "#SE CREA LA LISTA DE NODOS LUGARES \n",
    "listaL = ([\"El_Vecino\", -2.88112, -78.9882], \n",
    "          [\"Bellavista\", -2.88129, -79.00516], \n",
    "          [\"Loja_Argelia\", -2.88817, -78.99612], \n",
    "          [\"Misicata\", -2.88866, -78.98923], \n",
    "          [\"San_Sebastian\", -2.89008, -79.02636], \n",
    "          [\"Totoracocha\", -2.89082, -78.97689], \n",
    "          [\"Ricaurte\", -2.86347, -78.96523], \n",
    "          [\"Baños\", -2.92317, -79.06591], \n",
    "          [\"Parque_Calderon\", -2.89741, -79.00448], \n",
    "          [\"Las_Orquideas\", -2.86452, -78.98954], \n",
    "          [\"El_Batan\", -2.89628, -79.03342])\n",
    "\n",
    "for ll in listaL:\n",
    "    #SE INICIA EL METODO DE GENERAR LUGARES\n",
    "    grafo.CREAR_LUGAR(\"__\",str(ll[0]), str(ll[1]), str(ll[2]))"
   ]
  },
  {
   "cell_type": "code",
   "execution_count": 3,
   "id": "1b1fa608",
   "metadata": {},
   "outputs": [],
   "source": [
    "# SE GENERA LAS RELACIONES DE LOS LUGARES\n",
    "#SE CREA LA LISTA DE LAS RELACIONES Y LOS NODOS\n",
    "listaL = ([\"San_Sebastian\", \"El_Batan\", 1.03, 2.5],\n",
    "          [\"San_Sebastian\", \"Parque_Calderon\", 2.57, 2.9],\n",
    "          [\"San_Sebastian\", \"Bellavista\", 2.56, 3.9],\n",
    "          [\"El_Batan\", \"Baños\", 4.68, 7.9],\n",
    "          [\"Parque_Calderon\", \"Loja_Argelia\", 1.38, 1.9],\n",
    "          [\"Bellavista\", \"Loja_Argelia\", 1.26, 2.4],\n",
    "          [\"Loja_Argelia\", \"El_Vecino\", 1.18, 1.5],\n",
    "          [\"Loja_Argelia\", \"Misicata\", 0.76985, 1.9],\n",
    "          [\"El_Vecino\", \"Las_Orquideas\", 1.85, 2.7],\n",
    "          [\"El_Vecino\", \"Ricaurte\", 3.22, 4.7],\n",
    "          [\"Misicata\", \"Totoracocha\", 1.39, 2.8])\n",
    "         \n",
    "for lis in listaL:\n",
    "    #SE INICIA EL METODO DE GENERAR RUTAS\n",
    "    grafo.CREAR_RUTA(str(lis[0]),str(lis[1]),str(lis[2]),str(lis[3]))"
   ]
  }
 ],
 "metadata": {
  "kernelspec": {
   "display_name": "Python 3",
   "language": "python",
   "name": "python3"
  },
  "language_info": {
   "codemirror_mode": {
    "name": "ipython",
    "version": 3
   },
   "file_extension": ".py",
   "mimetype": "text/x-python",
   "name": "python",
   "nbconvert_exporter": "python",
   "pygments_lexer": "ipython3",
   "version": "3.8.8"
  }
 },
 "nbformat": 4,
 "nbformat_minor": 5
}
