{
 "cells": [
  {
   "attachments": {},
   "cell_type": "markdown",
   "metadata": {},
   "source": [
    "\n",
    "\n",
    "# Creación de Nodos en NEO4j\n",
    "\n",
    "CREATE (c1:Cañar {name: 'Azogues'}),\n",
    "\n",
    "       (c2:Cañar {name: 'Sageo'}),\n",
    "       (c3:Cañar {name: 'Cojitambo'}),\n",
    "       (c4:Cañar {name: 'Zhullin'}),\n",
    "       (c5:Cañar {name: 'Borrero'}),\n",
    "       (c6:Cañar {name: 'Luis Cordero'}),\n",
    "       (c7:Cañar {name: 'Biblian'}),\n",
    "       (c8:Cañar {name: 'Deleg'}),\n",
    "       (c9:Cañar {name: 'Hacienda Josefina'}),\n",
    "       (c10:Cañar {name: 'San Cristobal'}),\n",
    "       (c11:Cañar {name: 'Ayancay'}),\n",
    "       (c12:Cañar {name: 'Chuquipata'}),\n",
    "       (c1)-[:CONEXION {dis: 4}]->(c2),\n",
    "       (c1)-[:CONEXION {dis: 9.4}]->(c3),\n",
    "       (c1)-[:CONEXION {dis: 11.5}]->(c4),\n",
    "       (c1)-[:CONEXION {dis: 3.8}]->(c5),\n",
    "       (c1)-[:CONEXION {dis: 5.2}]->(c6),\n",
    "       (c2)-[:CONEXION {dis: 3.3}]->(c7),\n",
    "       (c3)-[:CONEXION {dis: 13}]->(c8),\n",
    "       (c4)-[:CONEXION {dis: 14.3}]->(c9),\n",
    "       (c5)-[:CONEXION {dis: 11.5}]->(c10),\n",
    "       (c8)-[:CONEXION {dis: 7.9}]->(c11),\n",
    "       (c11)-[:CONEXION {dis: 12.4}]->(c12),\n",
    "       (c9)-[:CONEXION {dis: 3.6}]->(c10)\n",
    "       \n",
    "\n",
    "\n",
    "CALL gds.graph.create('CAÑAR', 'Cañar', 'CONEXION', { relationshipProperties: 'distancia' })\n",
    "\n",
    "#Con esta sentencia podemos la busqueda por anchura.\n",
    "\n",
    "\n"
   ]
  },
  {
   "cell_type": "code",
   "execution_count": null,
   "metadata": {},
   "outputs": [],
   "source": []
  }
 ],
 "metadata": {
  "kernelspec": {
   "display_name": "Python 3",
   "language": "python",
   "name": "python3"
  },
  "language_info": {
   "codemirror_mode": {
    "name": "ipython",
    "version": 3
   },
   "file_extension": ".py",
   "mimetype": "text/x-python",
   "name": "python",
   "nbconvert_exporter": "python",
   "pygments_lexer": "ipython3",
   "version": "3.8.5"
  }
 },
 "nbformat": 4,
 "nbformat_minor": 4
}
